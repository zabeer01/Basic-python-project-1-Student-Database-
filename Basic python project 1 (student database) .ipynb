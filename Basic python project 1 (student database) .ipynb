{
 "cells": [
  {
   "cell_type": "code",
   "execution_count": 23,
   "id": "73365192",
   "metadata": {},
   "outputs": [],
   "source": [
    "class Student:\n",
    "    def __init__(self,name,clas,roll):\n",
    "        self.name = name\n",
    "        self.clas = clas\n",
    "        self.roll = roll\n",
    "    def Studentinfo(self):\n",
    "        print('the name of the student '+ str(self.name))\n",
    "        print('he is in class '+str(self.clas))\n",
    "        print('his roll is '+str(self.roll))\n",
    "\n",
    "        \n",
    "a1 = Student('rajib',8,9)\n",
    "a2 = Student('kader',9,10)\n",
    "        "
   ]
  },
  {
   "cell_type": "code",
   "execution_count": 24,
   "id": "240c6526",
   "metadata": {},
   "outputs": [
    {
     "name": "stdout",
     "output_type": "stream",
     "text": [
      "the name of the student rajib\n",
      "he is in class 8\n",
      "his roll is 9\n"
     ]
    }
   ],
   "source": [
    "a1.Studentinfo()"
   ]
  },
  {
   "cell_type": "code",
   "execution_count": null,
   "id": "2c8f6ca3",
   "metadata": {},
   "outputs": [],
   "source": []
  },
  {
   "cell_type": "code",
   "execution_count": null,
   "id": "fc9123a0",
   "metadata": {},
   "outputs": [],
   "source": []
  },
  {
   "cell_type": "code",
   "execution_count": null,
   "id": "2c1dc717",
   "metadata": {},
   "outputs": [],
   "source": []
  }
 ],
 "metadata": {
  "kernelspec": {
   "display_name": "Python 3 (ipykernel)",
   "language": "python",
   "name": "python3"
  },
  "language_info": {
   "codemirror_mode": {
    "name": "ipython",
    "version": 3
   },
   "file_extension": ".py",
   "mimetype": "text/x-python",
   "name": "python",
   "nbconvert_exporter": "python",
   "pygments_lexer": "ipython3",
   "version": "3.9.12"
  }
 },
 "nbformat": 4,
 "nbformat_minor": 5
}
